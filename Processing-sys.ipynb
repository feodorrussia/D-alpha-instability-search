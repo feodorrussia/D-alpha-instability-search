{
 "cells": [
  {
   "cell_type": "markdown",
   "id": "36684487-e4c3-4787-8a13-095ae2faf6bc",
   "metadata": {},
   "source": [
    "---\n",
    "# Processing system\n",
    "---"
   ]
  },
  {
   "cell_type": "code",
   "execution_count": 2,
   "id": "9eb1f526-f7c8-46ec-88e9-24b7088ec652",
   "metadata": {},
   "outputs": [],
   "source": [
    "import os.path\n",
    "import numpy as np\n",
    "import pandas as pd\n",
    "import time\n",
    "from datetime import datetime\n",
    "\n",
    "import shtReader_py.shtRipper as shtRipper\n",
    "from source.Files_operating import read_dataFile #, read_sht_dalpha\n",
    "from source.NN_environment import process_fragments, get_borders, normalise_series, down_to_zero\n",
    "from source.NN_environment import get_prediction_unet"
   ]
  },
  {
   "cell_type": "code",
   "execution_count": 7,
   "id": "7bde26c4-5e05-494a-a378-8941f46a5889",
   "metadata": {},
   "outputs": [],
   "source": [
    "def read_sht_dalpha(filename: str, filepath: str) -> pd.DataFrame:\n",
    "    if \".sht\" in filename.lower():\n",
    "        res = shtRipper.ripper.read(filepath + filename)\n",
    "    else:\n",
    "        res = shtRipper.ripper.read(filepath + filename + \".SHT\")\n",
    "\n",
    "    data = np.array([res[\"D-alfa  хорда R=50 cm\"][\"x\"], res[\"D-alfa  хорда R=50 cm\"][\"y\"]])\n",
    "    dalpha_df = pd.DataFrame(data.transpose(), columns=[\"t\", \"D-alpha_h50\"])\n",
    "    return dalpha_df"
   ]
  },
  {
   "cell_type": "code",
   "execution_count": 8,
   "id": "725ddc9e-edf8-48ef-8a0d-156dfaab309e",
   "metadata": {
    "ExecuteTime": {
     "end_time": "2024-07-31T23:19:42.792524Z",
     "start_time": "2024-07-31T23:19:42.619199Z"
    },
    "collapsed": false,
    "jupyter": {
     "outputs_hidden": false
    }
   },
   "outputs": [
    {
     "data": {
      "text/html": [
       "<div>\n",
       "<style scoped>\n",
       "    .dataframe tbody tr th:only-of-type {\n",
       "        vertical-align: middle;\n",
       "    }\n",
       "\n",
       "    .dataframe tbody tr th {\n",
       "        vertical-align: top;\n",
       "    }\n",
       "\n",
       "    .dataframe thead th {\n",
       "        text-align: right;\n",
       "    }\n",
       "</style>\n",
       "<table border=\"1\" class=\"dataframe\">\n",
       "  <thead>\n",
       "    <tr style=\"text-align: right;\">\n",
       "      <th></th>\n",
       "      <th>t</th>\n",
       "      <th>ch1</th>\n",
       "      <th>ch1_marked</th>\n",
       "      <th>ch1_ai_marked</th>\n",
       "    </tr>\n",
       "  </thead>\n",
       "  <tbody>\n",
       "    <tr>\n",
       "      <th>0</th>\n",
       "      <td>0.000000</td>\n",
       "      <td>-0.028118</td>\n",
       "      <td>0</td>\n",
       "      <td>0</td>\n",
       "    </tr>\n",
       "    <tr>\n",
       "      <th>1</th>\n",
       "      <td>0.000001</td>\n",
       "      <td>0.030674</td>\n",
       "      <td>0</td>\n",
       "      <td>0</td>\n",
       "    </tr>\n",
       "    <tr>\n",
       "      <th>2</th>\n",
       "      <td>0.000002</td>\n",
       "      <td>0.033230</td>\n",
       "      <td>0</td>\n",
       "      <td>0</td>\n",
       "    </tr>\n",
       "    <tr>\n",
       "      <th>3</th>\n",
       "      <td>0.000003</td>\n",
       "      <td>0.023005</td>\n",
       "      <td>0</td>\n",
       "      <td>0</td>\n",
       "    </tr>\n",
       "    <tr>\n",
       "      <th>4</th>\n",
       "      <td>0.000004</td>\n",
       "      <td>0.035786</td>\n",
       "      <td>0</td>\n",
       "      <td>0</td>\n",
       "    </tr>\n",
       "  </tbody>\n",
       "</table>\n",
       "</div>"
      ],
      "text/plain": [
       "          t       ch1  ch1_marked  ch1_ai_marked\n",
       "0  0.000000 -0.028118           0              0\n",
       "1  0.000001  0.030674           0              0\n",
       "2  0.000002  0.033230           0              0\n",
       "3  0.000003  0.023005           0              0\n",
       "4  0.000004  0.035786           0              0"
      ]
     },
     "execution_count": 8,
     "metadata": {},
     "output_type": "execute_result"
    }
   ],
   "source": [
    "interval_path = \"data/intervals/\"\n",
    "signal_path = \"data/d-alpha/\"\n",
    "\n",
    "filename = \"sht44351\"\n",
    "F_ID = filename[-5:]\n",
    "\n",
    "df = read_sht_dalpha(filename, \"C:/Users/f.belous/Work/Projects/D-alpha-instability-search/data/sht/\")  # pd.read_csv(signal_path + filename + \".txt\", sep=',')  # read_dataFile(interval_path + filename + \"_exportGlobus2.dat\", F_ID)\n",
    "df = df.rename(columns={\"D-alpha_h50\": \"ch1\"})\n",
    "df[\"ch1_marked\"] = 0\n",
    "df[\"ch1_ai_marked\"] = 0\n",
    "\n",
    "df.head()"
   ]
  },
  {
   "cell_type": "code",
   "execution_count": 9,
   "id": "30013c88-8bd5-481c-bd10-6b52aad9cb0b",
   "metadata": {
    "ExecuteTime": {
     "end_time": "2024-07-31T23:19:42.792524Z",
     "start_time": "2024-07-31T23:19:42.619199Z"
    },
    "collapsed": false,
    "jupyter": {
     "outputs_hidden": false
    }
   },
   "outputs": [
    {
     "name": "stderr",
     "output_type": "stream",
     "text": [
      "C:\\Users\\f.belous\\AppData\\Local\\anaconda3\\Lib\\site-packages\\keras\\src\\saving\\saving_lib.py:576: UserWarning: Skipping variable loading for optimizer 'adam', because it has 2 variables whereas the saved optimizer has 52 variables. \n",
      "  saveable.load_own_variables(weights_store.get(inner_path))\n"
     ]
    },
    {
     "name": "stdout",
     "output_type": "stream",
     "text": [
      "requested path \"44351_data.SHT\" does not exist.\n",
      "Result saved successfully to D:/Edu/Lab/D-alpha-instability-search/data/sht/marked/44351_data.SHT\n",
      "Took - 440.15 s\n"
     ]
    }
   ],
   "source": [
    "start_time = time.time()\n",
    "\n",
    "ckpt_v=3\n",
    "df[\"ch1_ai_marked\"] = get_prediction_unet(df[\"ch1\"].to_numpy(), ckpt_v=ckpt_v)  # , old=True\n",
    "\n",
    "df[\"ch1_marked\"] = down_to_zero(np.array(df[\"ch1_ai_marked\"]), edge=0.5)\n",
    "df[\"ch1_marked\"] = process_fragments(np.array(df[\"ch1\"]), np.array(df[\"ch1_marked\"]), length_edge=20, scale=0)\n",
    "\n",
    "to_pack = {\n",
    "    \"D-alpha, chord=50 cm\": {\n",
    "        'comment': f'SHOT: #{F_ID}',\n",
    "        'unit': 'U(V)',\n",
    "        # 'x': df.t,\n",
    "        'tMin': df.t.min(),  # minimum time\n",
    "        'tMax': df.t.max(),  # maximum time\n",
    "        'offset': 0.0,  # ADC zero level offset\n",
    "        'yRes': 0.001,  # ADC resolution: 0.0001 Volt per adc bit\n",
    "        'y': df.ch1.to_list()\n",
    "    },\n",
    "    \"Mark\": {\n",
    "        'comment': f'ELMs marks (by proc-sys v2.0-0scl; {datetime.now().strftime(\"%d.%m.%Y\")})',\n",
    "        'unit': 'U(V)',\n",
    "        # 'x': df.t,\n",
    "        'tMin': df.t.min(),  # minimum time\n",
    "        'tMax': df.t.max(),  # maximum time\n",
    "        'offset': 0.0,  # ADC zero level offset\n",
    "        'yRes': 0.001,  # ADC resolution: 0.0001 Volt per adc bit\n",
    "        'y': df.ch1_marked.to_list()\n",
    "    },\n",
    "    \"AI prediction\": {\n",
    "        'comment': f'Processed NN prediction of ELMs (v{ckpt_v}; trn-on: #44[168|184|194] )',\n",
    "        'unit': 'U(V)',\n",
    "        # 'x': df.t,\n",
    "        'tMin': df.t.min(),  # minimum time\n",
    "        'tMax': df.t.max(),  # maximum time\n",
    "        'offset': 0.0,  # ADC zero level offset\n",
    "        'yRes': 0.001,  # ADC resolution: 0.0001 Volt per adc bit\n",
    "        'y': df.ch1_ai_marked.to_list()\n",
    "    },\n",
    "}\n",
    "\n",
    "packed = shtRipper.ripper.write(path=\"D:/Edu/Lab/D-alpha-instability-search/data/sht/marked/\", filename=f'{F_ID}_data.SHT', data=to_pack)\n",
    "\n",
    "print(f\"Result saved successfully to D:/Edu/Lab/D-alpha-instability-search/data/sht/marked/{F_ID}_data.SHT\")\n",
    "print(f\"Took - {round(time.time() - start_time, 2)} s\")"
   ]
  },
  {
   "cell_type": "code",
   "execution_count": 10,
   "id": "f0a317a3-2252-41fa-ba69-54988ee583fb",
   "metadata": {
    "ExecuteTime": {
     "end_time": "2024-07-31T23:19:42.792524Z",
     "start_time": "2024-07-31T23:19:42.619199Z"
    },
    "collapsed": false,
    "jupyter": {
     "outputs_hidden": false
    }
   },
   "outputs": [],
   "source": [
    "df.to_csv('data/d-alpha/' + f\"df/{F_ID}_data.csv\", index=False)"
   ]
  },
  {
   "cell_type": "code",
   "execution_count": null,
   "id": "181ae0f0-e57f-407f-abda-f92863d6546e",
   "metadata": {},
   "outputs": [],
   "source": []
  }
 ],
 "metadata": {
  "kernelspec": {
   "display_name": "Python 3 (ipykernel)",
   "language": "python",
   "name": "python3"
  },
  "language_info": {
   "codemirror_mode": {
    "name": "ipython",
    "version": 3
   },
   "file_extension": ".py",
   "mimetype": "text/x-python",
   "name": "python",
   "nbconvert_exporter": "python",
   "pygments_lexer": "ipython3",
   "version": "3.11.7"
  }
 },
 "nbformat": 4,
 "nbformat_minor": 5
}
