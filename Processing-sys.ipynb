{
 "cells": [
  {
   "cell_type": "markdown",
   "id": "36684487-e4c3-4787-8a13-095ae2faf6bc",
   "metadata": {},
   "source": [
    "---\n",
    "# Processing system\n",
    "---"
   ]
  },
  {
   "cell_type": "code",
   "execution_count": 6,
   "id": "9eb1f526-f7c8-46ec-88e9-24b7088ec652",
   "metadata": {},
   "outputs": [],
   "source": [
    "import os.path\n",
    "import numpy as np\n",
    "import pandas as pd\n",
    "import time\n",
    "from datetime import datetime\n",
    "\n",
    "import shtReader_py.shtRipper as shtRipper\n",
    "from source.Files_operating import read_dataFile\n",
    "from source.NN_environment import process_fragments, get_borders, normalise_series, down_to_zero\n",
    "from source.NN_environment import get_prediction_unet"
   ]
  },
  {
   "cell_type": "code",
   "execution_count": null,
   "id": "006f1631-c1ef-4d3d-89af-3e75623e63c4",
   "metadata": {
    "ExecuteTime": {
     "end_time": "2024-07-31T23:19:42.792524Z",
     "start_time": "2024-07-31T23:19:42.619199Z"
    },
    "collapsed": false,
    "jupyter": {
     "outputs_hidden": false
    }
   },
   "outputs": [],
   "source": [
    "interval_path = \"data/intervals/\"\n",
    "signal_path = \"data/d-alpha/\"\n",
    "\n",
    "filename = \"sht44183\"\n",
    "F_ID = filename[-5:]\n",
    "\n",
    "df = pd.read_csv(signal_path + filename + \".txt\", sep=',')  # read_dataFile(interval_path + filename + \"_exportGlobus2.dat\", F_ID)\n",
    "df = df.rename(columns={\"D-alpha_h50\": \"ch1\"})\n",
    "df[\"ch1_marked\"] = 0\n",
    "df[\"ch1_ai_marked\"] = 0\n",
    "\n",
    "# print(df.head())\n",
    "\n",
    "start_time = time.time()\n",
    "\n",
    "ckpt_v=3\n",
    "df[\"ch1_ai_marked\"] = get_prediction_unet(df[\"ch1\"].to_numpy(), ckpt_v=ckpt_v)  # , old=True\n",
    "\n",
    "df[\"ch1_marked\"] = down_to_zero(np.array(df[\"ch1_ai_marked\"]), edge=0.5)\n",
    "df[\"ch1_marked\"] = process_fragments(np.array(df[\"ch1\"]), np.array(df[\"ch1_marked\"]), length_edge=20, scale=0)\n",
    "\n",
    "to_pack = {\n",
    "    \"D-alpha, chord=50 cm\": {\n",
    "        'comment': f'SHOT: #{F_ID}',\n",
    "        'unit': 'U(V)',\n",
    "        # 'x': df.t,\n",
    "        'tMin': df.t.min(),  # minimum time\n",
    "        'tMax': df.t.max(),  # maximum time\n",
    "        'offset': 0.0,  # ADC zero level offset\n",
    "        'yRes': 0.001,  # ADC resolution: 0.0001 Volt per adc bit\n",
    "        'y': df.ch1.to_list()\n",
    "    },\n",
    "    \"Mark\": {\n",
    "        'comment': f'ELMs marks (by proc-sys v2.0-0scl; {datetime.now().strftime(\"%d.%m.%Y\")})',\n",
    "        'unit': 'U(V)',\n",
    "        # 'x': df.t,\n",
    "        'tMin': df.t.min(),  # minimum time\n",
    "        'tMax': df.t.max(),  # maximum time\n",
    "        'offset': 0.0,  # ADC zero level offset\n",
    "        'yRes': 0.001,  # ADC resolution: 0.0001 Volt per adc bit\n",
    "        'y': df.ch1_marked.to_list()\n",
    "    },\n",
    "    \"AI prediction\": {\n",
    "        'comment': f'Processed NN prediction of ELMs (v{ckpt_v}; trn-on: #44[168|184|194] )',\n",
    "        'unit': 'U(V)',\n",
    "        # 'x': df.t,\n",
    "        'tMin': df.t.min(),  # minimum time\n",
    "        'tMax': df.t.max(),  # maximum time\n",
    "        'offset': 0.0,  # ADC zero level offset\n",
    "        'yRes': 0.001,  # ADC resolution: 0.0001 Volt per adc bit\n",
    "        'y': df.ch1_ai_marked.to_list()\n",
    "    },\n",
    "}\n",
    "\n",
    "packed = shtRipper.ripper.write(path=\"D:/Edu/Lab/D-alpha-instability-search/data/sht/marked/\", filename=f'{F_ID}_data.SHT', data=to_pack)\n",
    "\n",
    "print(f\"Result saved successfully to D:/Edu/Lab/D-alpha-instability-search/data/sht/marked/{F_ID}_data.SHT\")\n",
    "print(f\"Took - {round(time.time() - start_time, 2)} s\")"
   ]
  },
  {
   "cell_type": "code",
   "execution_count": null,
   "id": "f0a317a3-2252-41fa-ba69-54988ee583fb",
   "metadata": {
    "ExecuteTime": {
     "end_time": "2024-07-31T23:19:42.792524Z",
     "start_time": "2024-07-31T23:19:42.619199Z"
    },
    "collapsed": false,
    "jupyter": {
     "outputs_hidden": false
    }
   },
   "outputs": [],
   "source": [
    "df.to_csv('data/d-alpha/' + f\"df/{F_ID}_data.csv\", index=False)"
   ]
  },
  {
   "cell_type": "code",
   "execution_count": null,
   "id": "181ae0f0-e57f-407f-abda-f92863d6546e",
   "metadata": {},
   "outputs": [],
   "source": []
  }
 ],
 "metadata": {
  "kernelspec": {
   "display_name": "Python 3 (ipykernel)",
   "language": "python",
   "name": "python3"
  },
  "language_info": {
   "codemirror_mode": {
    "name": "ipython",
    "version": 3
   },
   "file_extension": ".py",
   "mimetype": "text/x-python",
   "name": "python",
   "nbconvert_exporter": "python",
   "pygments_lexer": "ipython3",
   "version": "3.11.7"
  }
 },
 "nbformat": 4,
 "nbformat_minor": 5
}
