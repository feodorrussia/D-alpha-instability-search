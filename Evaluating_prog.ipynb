{
 "cells": [
  {
   "cell_type": "code",
   "execution_count": null,
   "id": "76804b80-bd67-4eeb-a916-2184424eceb8",
   "metadata": {},
   "outputs": [],
   "source": [
    "import pandas as pd\n",
    "import numpy as np"
   ]
  },
  {
   "cell_type": "code",
   "execution_count": null,
   "id": "a601bb5b-6a91-4ea1-8753-d515db9dada9",
   "metadata": {},
   "outputs": [],
   "source": [
    "interval_path = \"data/intervals/\"\n",
    "signal_path = \"data/d-alpha/\"\n",
    "sht_path = \"data/sht/\"\n",
    "\n",
    "filename = \"sht44183\"\n",
    "F_ID = filename[-5:]\n",
    "\n",
    "df = pd.read_csv(sht_path + f\"df/{F_ID}_data.csv\", sep=\",\")\n",
    "df.describe()"
   ]
  },
  {
   "cell_type": "code",
   "execution_count": null,
   "id": "44df9f71-8f6d-42d0-8ae9-3368320de7f1",
   "metadata": {},
   "outputs": [],
   "source": []
  },
  {
   "cell_type": "code",
   "execution_count": null,
   "id": "c2272fd2-451d-4a09-a0ca-b292c30f9f4a",
   "metadata": {},
   "outputs": [],
   "source": []
  },
  {
   "cell_type": "markdown",
   "id": "391a9c11-e4d0-49a3-99ce-e17217fad732",
   "metadata": {},
   "source": [
    "---\n",
    "### Don't work\n",
    "---"
   ]
  },
  {
   "cell_type": "code",
   "execution_count": null,
   "id": "63125e11-3f85-4a71-89f3-c9bfabb91cfa",
   "metadata": {},
   "outputs": [],
   "source": [
    "import shtReader_py.shtRipper as shtRipper"
   ]
  },
  {
   "cell_type": "code",
   "execution_count": 3,
   "id": "1f501964-2137-4548-8cc9-1319473a1d72",
   "metadata": {},
   "outputs": [],
   "source": [
    "def load_sht(filepath='D:/Edu/Lab/D-alpha-instability-search/data/sht/marked/', filename=\"44168_data\") -> pd.DataFrame:\n",
    "    if \".sht\" in filename.lower():\n",
    "        res = shtRipper.ripper.read(filepath + filename)\n",
    "        filename = filename[:-4]\n",
    "    else:\n",
    "        res = shtRipper.ripper.read(filepath + filename + \".SHT\")\n",
    "\n",
    "    data_list = [res[res.keys()[0]][\"x\"]]\n",
    "    for ch in res.keys():\n",
    "        data_list.append(res[ch][\"y\"])\n",
    "    data_np = np.array(data_list)\n",
    "    df = pd.DataFrame(data_np.transpose(), columns=[\"t\"] + res.keys())\n",
    "    return df"
   ]
  },
  {
   "cell_type": "code",
   "execution_count": 4,
   "id": "a2961c0e-edc8-4c30-ab24-e816c58f1c5a",
   "metadata": {},
   "outputs": [
    {
     "name": "stdout",
     "output_type": "stream",
     "text": [
      "!!! this file type is not supported yet. Please, give it to Nikita.\n",
      "!!! this file type is not supported yet. Please, give it to Nikita.\n",
      "!!! this file type is not supported yet. Please, give it to Nikita.\n"
     ]
    },
    {
     "ename": "TypeError",
     "evalue": "'dict_keys' object is not subscriptable",
     "output_type": "error",
     "traceback": [
      "\u001b[1;31m---------------------------------------------------------------------------\u001b[0m",
      "\u001b[1;31mTypeError\u001b[0m                                 Traceback (most recent call last)",
      "Cell \u001b[1;32mIn[4], line 1\u001b[0m\n\u001b[1;32m----> 1\u001b[0m df \u001b[38;5;241m=\u001b[39m load_sht(filename\u001b[38;5;241m=\u001b[39m\u001b[38;5;124m\"\u001b[39m\u001b[38;5;124m44183_data\u001b[39m\u001b[38;5;124m\"\u001b[39m)\n\u001b[0;32m      2\u001b[0m df\u001b[38;5;241m.\u001b[39mhead()\n",
      "Cell \u001b[1;32mIn[3], line 8\u001b[0m, in \u001b[0;36mload_sht\u001b[1;34m(filepath, filename)\u001b[0m\n\u001b[0;32m      5\u001b[0m \u001b[38;5;28;01melse\u001b[39;00m:\n\u001b[0;32m      6\u001b[0m     res \u001b[38;5;241m=\u001b[39m shtRipper\u001b[38;5;241m.\u001b[39mripper\u001b[38;5;241m.\u001b[39mread(filepath \u001b[38;5;241m+\u001b[39m filename \u001b[38;5;241m+\u001b[39m \u001b[38;5;124m\"\u001b[39m\u001b[38;5;124m.SHT\u001b[39m\u001b[38;5;124m\"\u001b[39m)\n\u001b[1;32m----> 8\u001b[0m data_list \u001b[38;5;241m=\u001b[39m [res[res\u001b[38;5;241m.\u001b[39mkeys()[\u001b[38;5;241m0\u001b[39m]][\u001b[38;5;124m\"\u001b[39m\u001b[38;5;124mx\u001b[39m\u001b[38;5;124m\"\u001b[39m]]\n\u001b[0;32m      9\u001b[0m \u001b[38;5;28;01mfor\u001b[39;00m ch \u001b[38;5;129;01min\u001b[39;00m res\u001b[38;5;241m.\u001b[39mkeys():\n\u001b[0;32m     10\u001b[0m     data_list\u001b[38;5;241m.\u001b[39mappend(res[ch][\u001b[38;5;124m\"\u001b[39m\u001b[38;5;124my\u001b[39m\u001b[38;5;124m\"\u001b[39m])\n",
      "\u001b[1;31mTypeError\u001b[0m: 'dict_keys' object is not subscriptable"
     ]
    }
   ],
   "source": [
    "df = load_sht(filename=\"44183_data\")\n",
    "df.head()"
   ]
  },
  {
   "cell_type": "code",
   "execution_count": null,
   "id": "b2c08523-2202-481a-ac3d-9373f9d75e1f",
   "metadata": {},
   "outputs": [],
   "source": []
  }
 ],
 "metadata": {
  "kernelspec": {
   "display_name": "Python 3 (ipykernel)",
   "language": "python",
   "name": "python3"
  },
  "language_info": {
   "codemirror_mode": {
    "name": "ipython",
    "version": 3
   },
   "file_extension": ".py",
   "mimetype": "text/x-python",
   "name": "python",
   "nbconvert_exporter": "python",
   "pygments_lexer": "ipython3",
   "version": "3.11.7"
  }
 },
 "nbformat": 4,
 "nbformat_minor": 5
}
