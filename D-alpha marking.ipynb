{
 "cells": [
  {
   "cell_type": "code",
   "execution_count": 1,
   "metadata": {},
   "outputs": [
    {
     "name": "stdout",
     "output_type": "stream",
     "text": [
      "shtRipper v1.3\n"
     ]
    }
   ],
   "source": [
    "import os.path\n",
    "import numpy as np\n",
    "import pandas as pd\n",
    "\n",
    "from source.Files_operating import read_dataFile"
   ]
  },
  {
   "cell_type": "code",
   "execution_count": 11,
   "metadata": {
    "collapsed": false,
    "jupyter": {
     "outputs_hidden": false
    }
   },
   "outputs": [
    {
     "data": {
      "text/html": [
       "<div>\n",
       "<style scoped>\n",
       "    .dataframe tbody tr th:only-of-type {\n",
       "        vertical-align: middle;\n",
       "    }\n",
       "\n",
       "    .dataframe tbody tr th {\n",
       "        vertical-align: top;\n",
       "    }\n",
       "\n",
       "    .dataframe thead th {\n",
       "        text-align: right;\n",
       "    }\n",
       "</style>\n",
       "<table border=\"1\" class=\"dataframe\">\n",
       "  <thead>\n",
       "    <tr style=\"text-align: right;\">\n",
       "      <th></th>\n",
       "      <th>t</th>\n",
       "      <th>ch1</th>\n",
       "      <th>ch1_filter</th>\n",
       "      <th>ch1_filter_norm</th>\n",
       "      <th>ch1_marked</th>\n",
       "    </tr>\n",
       "  </thead>\n",
       "  <tbody>\n",
       "    <tr>\n",
       "      <th>0</th>\n",
       "      <td>157.955</td>\n",
       "      <td>0.61603</td>\n",
       "      <td>0.607570</td>\n",
       "      <td>0.112765</td>\n",
       "      <td>0</td>\n",
       "    </tr>\n",
       "    <tr>\n",
       "      <th>1</th>\n",
       "      <td>157.956</td>\n",
       "      <td>0.60325</td>\n",
       "      <td>0.607494</td>\n",
       "      <td>0.112695</td>\n",
       "      <td>0</td>\n",
       "    </tr>\n",
       "    <tr>\n",
       "      <th>2</th>\n",
       "      <td>157.957</td>\n",
       "      <td>0.62370</td>\n",
       "      <td>0.607434</td>\n",
       "      <td>0.112640</td>\n",
       "      <td>0</td>\n",
       "    </tr>\n",
       "    <tr>\n",
       "      <th>3</th>\n",
       "      <td>157.958</td>\n",
       "      <td>0.59814</td>\n",
       "      <td>0.607390</td>\n",
       "      <td>0.112600</td>\n",
       "      <td>0</td>\n",
       "    </tr>\n",
       "    <tr>\n",
       "      <th>4</th>\n",
       "      <td>157.959</td>\n",
       "      <td>0.61348</td>\n",
       "      <td>0.607362</td>\n",
       "      <td>0.112575</td>\n",
       "      <td>0</td>\n",
       "    </tr>\n",
       "  </tbody>\n",
       "</table>\n",
       "</div>"
      ],
      "text/plain": [
       "         t      ch1  ch1_filter  ch1_filter_norm  ch1_marked\n",
       "0  157.955  0.61603    0.607570         0.112765           0\n",
       "1  157.956  0.60325    0.607494         0.112695           0\n",
       "2  157.957  0.62370    0.607434         0.112640           0\n",
       "3  157.958  0.59814    0.607390         0.112600           0\n",
       "4  157.959  0.61348    0.607362         0.112575           0"
      ]
     },
     "execution_count": 11,
     "metadata": {},
     "output_type": "execute_result"
    }
   ],
   "source": [
    "interval_path = \"data/intervals/\"\n",
    "signal_path = \"data/d-alpha/\"\n",
    "\n",
    "filename = \"sht44168\"\n",
    "F_ID = filename[-5:]\n",
    "\n",
    "if os.path.isfile(f\"data/intervals/df/{F_ID}_data.csv\"):\n",
    "    df = pd.read_csv(f\"data/intervals/df/{F_ID}_data.csv\", sep=\",\")\n",
    "else:\n",
    "    df = read_dataFile(interval_path + filename + \"_exportGlobus2.dat\", F_ID)\n",
    "    df[\"ch1_marked\"] = pd.Series([0] * df.shape[0])\n",
    "\n",
    "df.head()"
   ]
  },
  {
   "cell_type": "code",
   "execution_count": 3,
   "metadata": {
    "collapsed": false,
    "jupyter": {
     "outputs_hidden": false
    }
   },
   "outputs": [],
   "source": [
    "def normalise_series(data):\n",
    "    max_point, min_point, median_value = data.max(), data.min(), np.median(data)\n",
    "    return (data - median_value) / abs(max_point - min_point)"
   ]
  },
  {
   "cell_type": "code",
   "execution_count": null,
   "metadata": {
    "collapsed": false,
    "jupyter": {
     "outputs_hidden": false
    }
   },
   "outputs": [],
   "source": [
    "import matplotlib.pyplot as plt\n",
    "from matplotlib.ticker import AutoMinorLocator\n",
    "\n",
    "l_edge = int(input(f\"Input start index [0:{df.shape[0]//1000*1000}]: \").strip().split()[0])\n",
    "step = 1500\n",
    "width = 2000\n",
    "\n",
    "while l_edge < df.shape[0]:\n",
    "    fig, ax = plt.subplots()\n",
    "\n",
    "    fig.set_figwidth(16)\n",
    "    fig.set_figheight(6)\n",
    "\n",
    "    r_edge = min(l_edge + width, df.shape[0])\n",
    "\n",
    "    ax.plot(range(l_edge, r_edge), normalise_series(df.ch1)[l_edge:r_edge], label=\"D-alpha\")\n",
    "    # ax.plot(range(l_edge, r_edge), df.ch1_filter_norm[l_edge:r_edge], label=\"Filtered D-alpha\")\n",
    "    ax.plot(range(l_edge, r_edge), df.ch1_marked[l_edge:r_edge] / 10, label=\"Marked D-alpha\")\n",
    "\n",
    "    ax.grid(which='major', color='#DDDDDD', linewidth=0.9)\n",
    "    ax.grid(which='minor', color='#DDDDDD', linestyle=':', linewidth=0.7)\n",
    "    ax.minorticks_on()\n",
    "    ax.xaxis.set_minor_locator(AutoMinorLocator(10))\n",
    "    ax.legend()\n",
    "    plt.show()\n",
    "\n",
    "    res = list(map(int, input(\"Input index pairs of ELM fragments:\\n\").strip().split()))\n",
    "    for i in range(0, len(res), 2):\n",
    "        if (df.loc[res[i]:res[i + 1], \"ch1_marked\"] == 1).all():\n",
    "            df.loc[res[i]:res[i + 1], \"ch1_marked\"] = 0\n",
    "        elif (df.loc[res[i]:res[i + 1], \"ch1_marked\"] == 1).any():\n",
    "            if input(\"Input y to set 1, n to set 0\").lower() in [\"y\", \"н\"]:\n",
    "                df.loc[res[i]:res[i + 1], \"ch1_marked\"] = 1\n",
    "            else:\n",
    "                df.loc[res[i]:res[i + 1], \"ch1_marked\"] = 0\n",
    "        else:\n",
    "            df.loc[res[i]:res[i + 1], \"ch1_marked\"] = 1\n",
    "\n",
    "    plt.close()\n",
    "    plt.clf()\n",
    "    l_edge += step\n",
    "\n",
    "# 275 875 925 1425 1425 1800 1800 2000"
   ]
  },
  {
   "cell_type": "code",
   "execution_count": 9,
   "metadata": {
    "collapsed": false,
    "jupyter": {
     "outputs_hidden": false
    }
   },
   "outputs": [
    {
     "data": {
      "text/plain": [
       "array([0, 1], dtype=int64)"
      ]
     },
     "execution_count": 9,
     "metadata": {},
     "output_type": "execute_result"
    }
   ],
   "source": [
    "# df[\"ch1_marked\"] = pd.Series([0] * df.shape[0])\n",
    "df.head()\n",
    "df.to_csv(f\"data/intervals/df/{F_ID}_data.csv\", index=False)\n",
    "np.unique(df.ch1_marked.to_numpy())\n",
    "# df = df.drop([4], axis=1)\n",
    "# df.head()"
   ]
  },
  {
   "cell_type": "code",
   "execution_count": 12,
   "metadata": {},
   "outputs": [
    {
     "name": "stdout",
     "output_type": "stream",
     "text": [
      "68\n"
     ]
    }
   ],
   "source": [
    "count = 0\n",
    "for i in range(df.shape[0]-1):\n",
    "    if df.iloc[i].ch1_marked == 0 and df.iloc[i+1].ch1_marked == 1:\n",
    "        count += 1\n",
    "print(count)"
   ]
  },
  {
   "cell_type": "code",
   "execution_count": null,
   "metadata": {},
   "outputs": [],
   "source": []
  }
 ],
 "metadata": {
  "kernelspec": {
   "display_name": "Python 3 (ipykernel)",
   "language": "python",
   "name": "python3"
  },
  "language_info": {
   "codemirror_mode": {
    "name": "ipython",
    "version": 3
   },
   "file_extension": ".py",
   "mimetype": "text/x-python",
   "name": "python",
   "nbconvert_exporter": "python",
   "pygments_lexer": "ipython3",
   "version": "3.11.7"
  }
 },
 "nbformat": 4,
 "nbformat_minor": 4
}
