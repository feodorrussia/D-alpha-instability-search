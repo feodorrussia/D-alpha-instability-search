{
 "cells": [
  {
   "cell_type": "code",
   "execution_count": 3,
   "metadata": {
    "ExecuteTime": {
     "end_time": "2024-07-31T23:19:42.605195Z",
     "start_time": "2024-07-31T23:19:41.038230Z"
    }
   },
   "outputs": [],
   "source": [
    "import os.path\n",
    "import numpy as np\n",
    "import pandas as pd\n",
    "import time\n",
    "from datetime import datetime\n",
    "\n",
    "import shtReader_py.shtRipper as shtRipper\n",
    "from source.Files_operating import read_dataFile\n",
    "from source.NN_environment import process_fragments, get_borders, normalise_series, down_to_zero\n",
    "from source.NN_environment import get_prediction_unet"
   ]
  },
  {
   "cell_type": "markdown",
   "metadata": {},
   "source": [
    "---\n",
    "# Processing system\n",
    "---"
   ]
  },
  {
   "cell_type": "code",
   "execution_count": 12,
   "metadata": {
    "ExecuteTime": {
     "end_time": "2024-07-31T23:19:42.792524Z",
     "start_time": "2024-07-31T23:19:42.619199Z"
    },
    "collapsed": false,
    "jupyter": {
     "outputs_hidden": false
    }
   },
   "outputs": [
    {
     "name": "stderr",
     "output_type": "stream",
     "text": [
      "D:\\anaconda3\\Lib\\site-packages\\keras\\src\\saving\\saving_lib.py:576: UserWarning: Skipping variable loading for optimizer 'adam', because it has 2 variables whereas the saved optimizer has 52 variables. \n",
      "  saveable.load_own_variables(weights_store.get(inner_path))\n"
     ]
    },
    {
     "name": "stdout",
     "output_type": "stream",
     "text": [
      "Result saved successfully to D:/Edu/Lab/D-alpha-instability-search/data/sht/marked/44168_data.SHT\n",
      "Took - 129.36 s\n"
     ]
    }
   ],
   "source": [
    "interval_path = \"data/intervals/\"\n",
    "signal_path = \"data/d-alpha/\"\n",
    "\n",
    "filename = \"sht44168\"\n",
    "F_ID = filename[-5:]\n",
    "\n",
    "df = pd.read_csv(signal_path + filename + \".txt\", sep=',')  # read_dataFile(interval_path + filename + \"_exportGlobus2.dat\", F_ID)\n",
    "df = df.rename(columns={\"D-alpha_h50\": \"ch1\"})\n",
    "df[\"ch1_marked\"] = 0\n",
    "df[\"ch1_ai_marked\"] = 0\n",
    "\n",
    "# print(df.head())\n",
    "\n",
    "start_time = time.time()\n",
    "\n",
    "ckpt_v=2\n",
    "df[\"ch1_ai_marked\"] = get_prediction_unet(df[\"ch1\"].to_numpy(), ckpt_v=ckpt_v)  # , old=True\n",
    "\n",
    "df[\"ch1_marked\"] = down_to_zero(np.array(df[\"ch1_ai_marked\"]), edge=0.5)\n",
    "df[\"ch1_marked\"] = process_fragments(np.array(df[\"ch1\"]), np.array(df[\"ch1_marked\"]), length_edge=20, scale=0)\n",
    "\n",
    "to_pack = {\n",
    "    \"D-alpha, chord=50 cm\": {\n",
    "        'comment': f'SHOT: #{F_ID}',\n",
    "        'unit': 'U(V)',\n",
    "        'tMin': df.t.min(),  # minimum time\n",
    "        'tMax': df.t.max(),  # maximum time\n",
    "        'offset': 0.0,  # ADC zero level offset\n",
    "        'yRes': -0.00255615,  # ADC resolution: 0.0001 Volt per adc bit\n",
    "        'y': df.ch1.to_list()\n",
    "    },\n",
    "    \"Mark\": {\n",
    "        'comment': f'ELMs marks (by proc-sys v2.0-0scl; {datetime.now().strftime(\"%d.%m.%Y\")})',\n",
    "        'unit': 'U(V)',\n",
    "        'tMin': df.t.min(),  # minimum time\n",
    "        'tMax': df.t.max(),  # maximum time\n",
    "        'offset': 0.0,  # ADC zero level offset\n",
    "        'yRes': 0.0001,  # ADC resolution: 0.0001 Volt per adc bit\n",
    "        'y': df.ch1_marked.to_list()\n",
    "    },\n",
    "    \"AI prediction\": {\n",
    "        'comment': f'Processed NN prediction of ELMs (v{ckpt_v}; trn-on: ...)',\n",
    "        'unit': 'U(V)',\n",
    "        'tMin': df.t.min(),  # minimum time\n",
    "        'tMax': df.t.max(),  # maximum time\n",
    "        'offset': 0.0,  # ADC zero level offset\n",
    "        'yRes': 0.0001,  # ADC resolution: 0.0001 Volt per adc bit\n",
    "        'y': df.ch1_ai_marked.to_list()\n",
    "    },\n",
    "}\n",
    "\n",
    "packed = shtRipper.ripper.write(path=\"D:/Edu/Lab/D-alpha-instability-search/data/sht/marked/\", filename=f'{F_ID}_data.SHT', data=to_pack)\n",
    "\n",
    "print(f\"Result saved successfully to D:/Edu/Lab/D-alpha-instability-search/data/sht/marked/{F_ID}_data.SHT\")\n",
    "print(f\"Took - {round(time.time() - start_time, 2)} s\")"
   ]
  },
  {
   "cell_type": "markdown",
   "metadata": {},
   "source": [
    "---\n",
    "---"
   ]
  },
  {
   "cell_type": "code",
   "execution_count": 2,
   "metadata": {
    "ExecuteTime": {
     "end_time": "2024-07-31T23:19:42.792524Z",
     "start_time": "2024-07-31T23:19:42.619199Z"
    },
    "collapsed": false,
    "jupyter": {
     "outputs_hidden": false
    }
   },
   "outputs": [
    {
     "data": {
      "text/html": [
       "<div>\n",
       "<style scoped>\n",
       "    .dataframe tbody tr th:only-of-type {\n",
       "        vertical-align: middle;\n",
       "    }\n",
       "\n",
       "    .dataframe tbody tr th {\n",
       "        vertical-align: top;\n",
       "    }\n",
       "\n",
       "    .dataframe thead th {\n",
       "        text-align: right;\n",
       "    }\n",
       "</style>\n",
       "<table border=\"1\" class=\"dataframe\">\n",
       "  <thead>\n",
       "    <tr style=\"text-align: right;\">\n",
       "      <th></th>\n",
       "      <th>t</th>\n",
       "      <th>ch1</th>\n",
       "      <th>ch1_marked</th>\n",
       "      <th>ch1_ai_marked</th>\n",
       "    </tr>\n",
       "  </thead>\n",
       "  <tbody>\n",
       "    <tr>\n",
       "      <th>count</th>\n",
       "      <td>76243.000000</td>\n",
       "      <td>76243.000000</td>\n",
       "      <td>76243.000000</td>\n",
       "      <td>7.624300e+04</td>\n",
       "    </tr>\n",
       "    <tr>\n",
       "      <th>mean</th>\n",
       "      <td>203.119000</td>\n",
       "      <td>0.529203</td>\n",
       "      <td>0.077935</td>\n",
       "      <td>1.001058e-01</td>\n",
       "    </tr>\n",
       "    <tr>\n",
       "      <th>std</th>\n",
       "      <td>22.009603</td>\n",
       "      <td>0.160735</td>\n",
       "      <td>0.268071</td>\n",
       "      <td>2.752408e-01</td>\n",
       "    </tr>\n",
       "    <tr>\n",
       "      <th>min</th>\n",
       "      <td>164.998000</td>\n",
       "      <td>0.181490</td>\n",
       "      <td>0.000000</td>\n",
       "      <td>2.584950e-17</td>\n",
       "    </tr>\n",
       "    <tr>\n",
       "      <th>25%</th>\n",
       "      <td>184.058500</td>\n",
       "      <td>0.396200</td>\n",
       "      <td>0.000000</td>\n",
       "      <td>9.571570e-08</td>\n",
       "    </tr>\n",
       "    <tr>\n",
       "      <th>50%</th>\n",
       "      <td>203.119000</td>\n",
       "      <td>0.526570</td>\n",
       "      <td>0.000000</td>\n",
       "      <td>6.554467e-06</td>\n",
       "    </tr>\n",
       "    <tr>\n",
       "      <th>75%</th>\n",
       "      <td>222.179500</td>\n",
       "      <td>0.639040</td>\n",
       "      <td>0.000000</td>\n",
       "      <td>1.165128e-03</td>\n",
       "    </tr>\n",
       "    <tr>\n",
       "      <th>max</th>\n",
       "      <td>241.240000</td>\n",
       "      <td>1.265300</td>\n",
       "      <td>1.000000</td>\n",
       "      <td>1.000000e+00</td>\n",
       "    </tr>\n",
       "  </tbody>\n",
       "</table>\n",
       "</div>"
      ],
      "text/plain": [
       "                  t           ch1    ch1_marked  ch1_ai_marked\n",
       "count  76243.000000  76243.000000  76243.000000   7.624300e+04\n",
       "mean     203.119000      0.529203      0.077935   1.001058e-01\n",
       "std       22.009603      0.160735      0.268071   2.752408e-01\n",
       "min      164.998000      0.181490      0.000000   2.584950e-17\n",
       "25%      184.058500      0.396200      0.000000   9.571570e-08\n",
       "50%      203.119000      0.526570      0.000000   6.554467e-06\n",
       "75%      222.179500      0.639040      0.000000   1.165128e-03\n",
       "max      241.240000      1.265300      1.000000   1.000000e+00"
      ]
     },
     "execution_count": 2,
     "metadata": {},
     "output_type": "execute_result"
    }
   ],
   "source": [
    "interval_path = \"data/intervals/\"\n",
    "signal_path = \"data/d-alpha/\"\n",
    "\n",
    "filename = \"sht44183\"\n",
    "F_ID = filename[-5:]\n",
    "\n",
    "if os.path.isfile(interval_path + f\"df/{F_ID}_data.csv\"):\n",
    "    df = pd.read_csv(interval_path + f\"df/{F_ID}_data.csv\", sep=\",\")\n",
    "else:\n",
    "    df = read_dataFile(interval_path + filename + \"_exportGlobus2.dat\", F_ID)\n",
    "    df[\"ch1_marked\"] = pd.Series([0] * df.shape[0])\n",
    "    df[\"ch1_ai_marked\"] = pd.Series([0] * df.shape[0])\n",
    "\n",
    "df.describe()"
   ]
  },
  {
   "cell_type": "code",
   "execution_count": 3,
   "metadata": {
    "ExecuteTime": {
     "end_time": "2024-07-31T23:19:50.781119Z",
     "start_time": "2024-07-31T23:19:42.800567Z"
    },
    "collapsed": false,
    "jupyter": {
     "outputs_hidden": false
    }
   },
   "outputs": [],
   "source": [
    "# def process_fragments(data: np.array, mark_data: np.array, edge=10, scale=np.exp(1), step_out=10) -> np.array:\n",
    "#     proc_slice = Slice(0, 0)\n",
    "#     cur_slice = Slice(0, 1)\n",
    "#     f_fragment = False\n",
    "#\n",
    "#     while cur_slice.r < mark_data.shape[0]:\n",
    "#         if mark_data[cur_slice.r] == 1.0:\n",
    "#             if not f_fragment:\n",
    "#                 f_fragment = True\n",
    "#         elif f_fragment:\n",
    "#             if not cur_slice.check_length(edge):\n",
    "#                 mark_data[cur_slice.l: cur_slice.r] = 0.0\n",
    "#                 if not proc_slice.is_null():\n",
    "#                     mark_data[proc_slice.l: proc_slice.r] = 1.0\n",
    "#                     proc_slice.collapse_borders()\n",
    "#             elif not proc_slice.collide_slices(cur_slice, edge):\n",
    "#                 mark_data[proc_slice.l: proc_slice.r] = 1.0\n",
    "#                 proc_slice.copy(cur_slice)\n",
    "#\n",
    "#             f_fragment = False\n",
    "#             cur_slice.collapse_borders()\n",
    "#         elif not f_fragment:\n",
    "#             cur_slice.collapse_borders()\n",
    "#             if not proc_slice.is_null():\n",
    "#                 proc_slice.copy(cur_slice)\n",
    "#\n",
    "#         cur_slice.step()\n",
    "#\n",
    "#     return mark_data\n",
    "\n",
    "# elif scale:\n",
    "# mark_data[cur_slice.l: cur_slice.r] = 0.0\n",
    "# if cur_slice.check_length(edge):\n",
    "#     borders = get_borders(data[cur_slice.l: cur_slice.r], scale)\n",
    "#     # print(boards)\n",
    "#     borders[0] = max(borders[0] + cur_slice.l - step_out, 0)\n",
    "#     borders[1] = min(borders[1] + cur_slice.l, mark_data.shape[0])\n",
    "\n",
    "#     mark_data[borders[0]:borders[1]] = 1.0"
   ]
  },
  {
   "cell_type": "code",
   "execution_count": 4,
   "metadata": {
    "ExecuteTime": {
     "end_time": "2024-07-31T23:19:51.016321Z",
     "start_time": "2024-07-31T23:19:50.786121Z"
    },
    "scrolled": true
   },
   "outputs": [
    {
     "data": {
      "text/html": [
       "<div>\n",
       "<style scoped>\n",
       "    .dataframe tbody tr th:only-of-type {\n",
       "        vertical-align: middle;\n",
       "    }\n",
       "\n",
       "    .dataframe tbody tr th {\n",
       "        vertical-align: top;\n",
       "    }\n",
       "\n",
       "    .dataframe thead th {\n",
       "        text-align: right;\n",
       "    }\n",
       "</style>\n",
       "<table border=\"1\" class=\"dataframe\">\n",
       "  <thead>\n",
       "    <tr style=\"text-align: right;\">\n",
       "      <th></th>\n",
       "      <th>t</th>\n",
       "      <th>ch1</th>\n",
       "      <th>ch1_marked</th>\n",
       "      <th>ch1_ai_marked</th>\n",
       "    </tr>\n",
       "  </thead>\n",
       "  <tbody>\n",
       "    <tr>\n",
       "      <th>count</th>\n",
       "      <td>76243.000000</td>\n",
       "      <td>76243.000000</td>\n",
       "      <td>76243.000000</td>\n",
       "      <td>7.624300e+04</td>\n",
       "    </tr>\n",
       "    <tr>\n",
       "      <th>mean</th>\n",
       "      <td>203.119000</td>\n",
       "      <td>0.529203</td>\n",
       "      <td>0.083365</td>\n",
       "      <td>1.001058e-01</td>\n",
       "    </tr>\n",
       "    <tr>\n",
       "      <th>std</th>\n",
       "      <td>22.009603</td>\n",
       "      <td>0.160735</td>\n",
       "      <td>0.276435</td>\n",
       "      <td>2.752408e-01</td>\n",
       "    </tr>\n",
       "    <tr>\n",
       "      <th>min</th>\n",
       "      <td>164.998000</td>\n",
       "      <td>0.181490</td>\n",
       "      <td>0.000000</td>\n",
       "      <td>2.584950e-17</td>\n",
       "    </tr>\n",
       "    <tr>\n",
       "      <th>25%</th>\n",
       "      <td>184.058500</td>\n",
       "      <td>0.396200</td>\n",
       "      <td>0.000000</td>\n",
       "      <td>9.571570e-08</td>\n",
       "    </tr>\n",
       "    <tr>\n",
       "      <th>50%</th>\n",
       "      <td>203.119000</td>\n",
       "      <td>0.526570</td>\n",
       "      <td>0.000000</td>\n",
       "      <td>6.554467e-06</td>\n",
       "    </tr>\n",
       "    <tr>\n",
       "      <th>75%</th>\n",
       "      <td>222.179500</td>\n",
       "      <td>0.639040</td>\n",
       "      <td>0.000000</td>\n",
       "      <td>1.165128e-03</td>\n",
       "    </tr>\n",
       "    <tr>\n",
       "      <th>max</th>\n",
       "      <td>241.240000</td>\n",
       "      <td>1.265300</td>\n",
       "      <td>1.000000</td>\n",
       "      <td>1.000000e+00</td>\n",
       "    </tr>\n",
       "  </tbody>\n",
       "</table>\n",
       "</div>"
      ],
      "text/plain": [
       "                  t           ch1    ch1_marked  ch1_ai_marked\n",
       "count  76243.000000  76243.000000  76243.000000   7.624300e+04\n",
       "mean     203.119000      0.529203      0.083365   1.001058e-01\n",
       "std       22.009603      0.160735      0.276435   2.752408e-01\n",
       "min      164.998000      0.181490      0.000000   2.584950e-17\n",
       "25%      184.058500      0.396200      0.000000   9.571570e-08\n",
       "50%      203.119000      0.526570      0.000000   6.554467e-06\n",
       "75%      222.179500      0.639040      0.000000   1.165128e-03\n",
       "max      241.240000      1.265300      1.000000   1.000000e+00"
      ]
     },
     "execution_count": 4,
     "metadata": {},
     "output_type": "execute_result"
    }
   ],
   "source": [
    "# from source.NN_environment import process_fragments\n",
    "\n",
    "df[\"ch1_marked\"] = down_to_zero(np.array(df[\"ch1_ai_marked\"]), edge=0.5)\n",
    "df[\"ch1_marked\"] = process_fragments(np.array(df[\"ch1\"]), np.array(df[\"ch1_marked\"]), scale=0)\n",
    "df.describe()"
   ]
  },
  {
   "cell_type": "code",
   "execution_count": 5,
   "metadata": {
    "ExecuteTime": {
     "end_time": "2024-07-31T23:19:51.444907Z",
     "start_time": "2024-07-31T23:19:51.023324Z"
    },
    "collapsed": false,
    "jupyter": {
     "outputs_hidden": false
    }
   },
   "outputs": [],
   "source": [
    "df.to_csv(interval_path + f\"df/{F_ID}_data.csv\", index=False)\n"
   ]
  },
  {
   "cell_type": "code",
   "execution_count": 40,
   "metadata": {},
   "outputs": [],
   "source": [
    "df[\"ch1_marked\"] = df[\"ch1_ai_marked\"]\n",
    "df[\"ch1_ai_marked\"] = 0"
   ]
  },
  {
   "cell_type": "code",
   "execution_count": 5,
   "metadata": {
    "collapsed": false,
    "jupyter": {
     "outputs_hidden": false
    },
    "scrolled": true
   },
   "outputs": [
    {
     "name": "stdin",
     "output_type": "stream",
     "text": [
      "Input marking mode (0 - manual | 1 - semiauto):  1\n",
      "Input start index [0:393000]:  0\n"
     ]
    },
    {
     "data": {
      "image/png": "[encoded data removed]",
      "text/plain": [
       "<Figure size 1600x600 with 1 Axes>"
      ]
     },
     "metadata": {},
     "output_type": "display_data"
    },
    {
     "ename": "KeyboardInterrupt",
     "evalue": "Interrupted by user",
     "output_type": "error",
     "traceback": [
      "\u001b[1;31m---------------------------------------------------------------------------\u001b[0m",
      "\u001b[1;31mKeyboardInterrupt\u001b[0m                         Traceback (most recent call last)",
      "Cell \u001b[1;32mIn[5], line 31\u001b[0m\n\u001b[0;32m     28\u001b[0m ax\u001b[38;5;241m.\u001b[39mlegend()\n\u001b[0;32m     29\u001b[0m plt\u001b[38;5;241m.\u001b[39mshow()\n\u001b[1;32m---> 31\u001b[0m res \u001b[38;5;241m=\u001b[39m \u001b[38;5;28mlist\u001b[39m(\u001b[38;5;28mmap\u001b[39m(\u001b[38;5;28mint\u001b[39m, \u001b[38;5;28minput\u001b[39m(\u001b[38;5;124m\"\u001b[39m\u001b[38;5;124mInput index pairs of ELM fragments:\u001b[39m\u001b[38;5;130;01m\\n\u001b[39;00m\u001b[38;5;124m\"\u001b[39m)\u001b[38;5;241m.\u001b[39mstrip()\u001b[38;5;241m.\u001b[39msplit()))\n\u001b[0;32m     32\u001b[0m \u001b[38;5;28;01mfor\u001b[39;00m i \u001b[38;5;129;01min\u001b[39;00m \u001b[38;5;28mrange\u001b[39m(\u001b[38;5;241m0\u001b[39m, \u001b[38;5;28mlen\u001b[39m(res), \u001b[38;5;241m2\u001b[39m):\n\u001b[0;32m     33\u001b[0m     board_ind \u001b[38;5;241m=\u001b[39m [res[i], res[i\u001b[38;5;241m+\u001b[39m\u001b[38;5;241m1\u001b[39m]]\n",
      "File \u001b[1;32mD:\\anaconda3\\Lib\\site-packages\\ipykernel\\kernelbase.py:1262\u001b[0m, in \u001b[0;36mKernel.raw_input\u001b[1;34m(self, prompt)\u001b[0m\n\u001b[0;32m   1260\u001b[0m     msg \u001b[38;5;241m=\u001b[39m \u001b[38;5;124m\"\u001b[39m\u001b[38;5;124mraw_input was called, but this frontend does not support input requests.\u001b[39m\u001b[38;5;124m\"\u001b[39m\n\u001b[0;32m   1261\u001b[0m     \u001b[38;5;28;01mraise\u001b[39;00m StdinNotImplementedError(msg)\n\u001b[1;32m-> 1262\u001b[0m \u001b[38;5;28;01mreturn\u001b[39;00m \u001b[38;5;28mself\u001b[39m\u001b[38;5;241m.\u001b[39m_input_request(\n\u001b[0;32m   1263\u001b[0m     \u001b[38;5;28mstr\u001b[39m(prompt),\n\u001b[0;32m   1264\u001b[0m     \u001b[38;5;28mself\u001b[39m\u001b[38;5;241m.\u001b[39m_parent_ident[\u001b[38;5;124m\"\u001b[39m\u001b[38;5;124mshell\u001b[39m\u001b[38;5;124m\"\u001b[39m],\n\u001b[0;32m   1265\u001b[0m     \u001b[38;5;28mself\u001b[39m\u001b[38;5;241m.\u001b[39mget_parent(\u001b[38;5;124m\"\u001b[39m\u001b[38;5;124mshell\u001b[39m\u001b[38;5;124m\"\u001b[39m),\n\u001b[0;32m   1266\u001b[0m     password\u001b[38;5;241m=\u001b[39m\u001b[38;5;28;01mFalse\u001b[39;00m,\n\u001b[0;32m   1267\u001b[0m )\n",
      "File \u001b[1;32mD:\\anaconda3\\Lib\\site-packages\\ipykernel\\kernelbase.py:1305\u001b[0m, in \u001b[0;36mKernel._input_request\u001b[1;34m(self, prompt, ident, parent, password)\u001b[0m\n\u001b[0;32m   1302\u001b[0m \u001b[38;5;28;01mexcept\u001b[39;00m \u001b[38;5;167;01mKeyboardInterrupt\u001b[39;00m:\n\u001b[0;32m   1303\u001b[0m     \u001b[38;5;66;03m# re-raise KeyboardInterrupt, to truncate traceback\u001b[39;00m\n\u001b[0;32m   1304\u001b[0m     msg \u001b[38;5;241m=\u001b[39m \u001b[38;5;124m\"\u001b[39m\u001b[38;5;124mInterrupted by user\u001b[39m\u001b[38;5;124m\"\u001b[39m\n\u001b[1;32m-> 1305\u001b[0m     \u001b[38;5;28;01mraise\u001b[39;00m \u001b[38;5;167;01mKeyboardInterrupt\u001b[39;00m(msg) \u001b[38;5;28;01mfrom\u001b[39;00m \u001b[38;5;28;01mNone\u001b[39;00m\n\u001b[0;32m   1306\u001b[0m \u001b[38;5;28;01mexcept\u001b[39;00m \u001b[38;5;167;01mException\u001b[39;00m:\n\u001b[0;32m   1307\u001b[0m     \u001b[38;5;28mself\u001b[39m\u001b[38;5;241m.\u001b[39mlog\u001b[38;5;241m.\u001b[39mwarning(\u001b[38;5;124m\"\u001b[39m\u001b[38;5;124mInvalid Message:\u001b[39m\u001b[38;5;124m\"\u001b[39m, exc_info\u001b[38;5;241m=\u001b[39m\u001b[38;5;28;01mTrue\u001b[39;00m)\n",
      "\u001b[1;31mKeyboardInterrupt\u001b[0m: Interrupted by user"
     ]
    }
   ],
   "source": [
    "import matplotlib.pyplot as plt\n",
    "from matplotlib.ticker import AutoMinorLocator\n",
    "\n",
    "mode = int(input(\"Input marking mode (0 - manual | 1 - semiauto): \").strip().split()[0])\n",
    "\n",
    "l_edge = int(input(f\"Input start index [0:{df.shape[0]//1000*1000}]: \").strip().split()[0])\n",
    "step = 1500\n",
    "width = 2000\n",
    "\n",
    "step_away = 10\n",
    "\n",
    "while l_edge < df.shape[0]:\n",
    "    fig, ax = plt.subplots()\n",
    "\n",
    "    fig.set_figwidth(16)\n",
    "    fig.set_figheight(6)\n",
    "\n",
    "    r_edge = min(l_edge + width, df.shape[0])\n",
    "\n",
    "    ax.plot(range(l_edge, r_edge), normalise_series(df.ch1)[l_edge:r_edge], label=\"D-alpha\")\n",
    "    ax.plot(range(l_edge, r_edge), df.ch1_marked[l_edge:r_edge] * 0.5, label=\"Mark\")\n",
    "    ax.plot(range(l_edge, r_edge), df.ch1_ai_marked[l_edge:r_edge] * 0.5, label=\"AI prediction\")\n",
    "\n",
    "    ax.grid(which='major', color='#DDDDDD', linewidth=0.9)\n",
    "    ax.grid(which='minor', color='#DDDDDD', linestyle=':', linewidth=0.7)\n",
    "    ax.minorticks_on()\n",
    "    ax.xaxis.set_minor_locator(AutoMinorLocator(10))\n",
    "    ax.legend()\n",
    "    plt.show()\n",
    "\n",
    "    res = list(map(int, input(\"Input index pairs of ELM fragments:\\n\").strip().split()))\n",
    "    for i in range(0, len(res), 2):\n",
    "        board_ind = [res[i], res[i+1]]\n",
    "        \n",
    "        if (df.loc[board_ind[0]:board_ind[1], \"ch1_marked\"] == 1.).all():\n",
    "            df.loc[board_ind[0]:board_ind[1], \"ch1_marked\"] = 0.\n",
    "        elif (df.loc[board_ind[0]:board_ind[1], \"ch1_marked\"] == 1.).any():\n",
    "            if input(\"Input 1 or 0 to set: \").lower() in [\"1\", \"1.0\", \"y\", \"н\", \"1.\"]:\n",
    "                if mode:\n",
    "                    board_ind = get_borders(df.loc[res[i]:res[i + 1], \"ch1\"].to_numpy(), scale=1.5)\n",
    "                    board_ind[0] = max(board_ind[0] - step_away + res[i], 0)\n",
    "                    board_ind[1] += res[i]\n",
    "                    \n",
    "                df.loc[board_ind[0]:board_ind[1], \"ch1_marked\"] = 1.\n",
    "            else:\n",
    "                df.loc[board_ind[0]:board_ind[1], \"ch1_marked\"] = 0.\n",
    "        else:\n",
    "            if mode:\n",
    "                board_ind = get_borders(df.loc[res[i]:res[i + 1], \"ch1\"].to_numpy(), scale=1.5)\n",
    "                board_ind[0] = max(board_ind[0] - step_away + res[i], 0)\n",
    "                board_ind[1] += res[i]\n",
    "                \n",
    "            df.loc[board_ind[0]:board_ind[1], \"ch1_marked\"] = 1.\n",
    "\n",
    "    plt.close()\n",
    "    plt.clf()\n",
    "    l_edge += step"
   ]
  },
  {
   "cell_type": "code",
   "execution_count": 50,
   "metadata": {
    "collapsed": false,
    "jupyter": {
     "outputs_hidden": false
    }
   },
   "outputs": [
    {
     "data": {
      "text/html": [
       "<div>\n",
       "<style scoped>\n",
       "    .dataframe tbody tr th:only-of-type {\n",
       "        vertical-align: middle;\n",
       "    }\n",
       "\n",
       "    .dataframe tbody tr th {\n",
       "        vertical-align: top;\n",
       "    }\n",
       "\n",
       "    .dataframe thead th {\n",
       "        text-align: right;\n",
       "    }\n",
       "</style>\n",
       "<table border=\"1\" class=\"dataframe\">\n",
       "  <thead>\n",
       "    <tr style=\"text-align: right;\">\n",
       "      <th></th>\n",
       "      <th>t</th>\n",
       "      <th>ch1</th>\n",
       "      <th>ch1_marked</th>\n",
       "      <th>ch1_ai_marked</th>\n",
       "    </tr>\n",
       "  </thead>\n",
       "  <tbody>\n",
       "    <tr>\n",
       "      <th>count</th>\n",
       "      <td>65970.000000</td>\n",
       "      <td>65970.000000</td>\n",
       "      <td>65970.000000</td>\n",
       "      <td>65970.0</td>\n",
       "    </tr>\n",
       "    <tr>\n",
       "      <th>mean</th>\n",
       "      <td>197.454500</td>\n",
       "      <td>0.552893</td>\n",
       "      <td>0.095362</td>\n",
       "      <td>0.0</td>\n",
       "    </tr>\n",
       "    <tr>\n",
       "      <th>std</th>\n",
       "      <td>19.044043</td>\n",
       "      <td>0.186984</td>\n",
       "      <td>0.293716</td>\n",
       "      <td>0.0</td>\n",
       "    </tr>\n",
       "    <tr>\n",
       "      <th>min</th>\n",
       "      <td>164.470000</td>\n",
       "      <td>0.191710</td>\n",
       "      <td>0.000000</td>\n",
       "      <td>0.0</td>\n",
       "    </tr>\n",
       "    <tr>\n",
       "      <th>25%</th>\n",
       "      <td>180.962250</td>\n",
       "      <td>0.401320</td>\n",
       "      <td>0.000000</td>\n",
       "      <td>0.0</td>\n",
       "    </tr>\n",
       "    <tr>\n",
       "      <th>50%</th>\n",
       "      <td>197.454500</td>\n",
       "      <td>0.534240</td>\n",
       "      <td>0.000000</td>\n",
       "      <td>0.0</td>\n",
       "    </tr>\n",
       "    <tr>\n",
       "      <th>75%</th>\n",
       "      <td>213.946750</td>\n",
       "      <td>0.674820</td>\n",
       "      <td>0.000000</td>\n",
       "      <td>0.0</td>\n",
       "    </tr>\n",
       "    <tr>\n",
       "      <th>max</th>\n",
       "      <td>230.439000</td>\n",
       "      <td>1.536200</td>\n",
       "      <td>1.000000</td>\n",
       "      <td>0.0</td>\n",
       "    </tr>\n",
       "  </tbody>\n",
       "</table>\n",
       "</div>"
      ],
      "text/plain": [
       "                  t           ch1    ch1_marked  ch1_ai_marked\n",
       "count  65970.000000  65970.000000  65970.000000        65970.0\n",
       "mean     197.454500      0.552893      0.095362            0.0\n",
       "std       19.044043      0.186984      0.293716            0.0\n",
       "min      164.470000      0.191710      0.000000            0.0\n",
       "25%      180.962250      0.401320      0.000000            0.0\n",
       "50%      197.454500      0.534240      0.000000            0.0\n",
       "75%      213.946750      0.674820      0.000000            0.0\n",
       "max      230.439000      1.536200      1.000000            0.0"
      ]
     },
     "execution_count": 50,
     "metadata": {},
     "output_type": "execute_result"
    }
   ],
   "source": [
    "df.to_csv(f\"data/intervals/df/{F_ID}_data.csv\", index=False)\n",
    "df.describe()"
   ]
  },
  {
   "cell_type": "code",
   "execution_count": 51,
   "metadata": {},
   "outputs": [
    {
     "name": "stdout",
     "output_type": "stream",
     "text": [
      "56\n"
     ]
    }
   ],
   "source": [
    "count = 0\n",
    "for i in range(df.shape[0]-1):\n",
    "    if df.iloc[i].ch1_marked == 0 and df.iloc[i+1].ch1_marked == 1:\n",
    "        count += 1\n",
    "print(count)"
   ]
  },
  {
   "cell_type": "markdown",
   "metadata": {},
   "source": [
    "---\n",
    "## AI marking\n",
    "---"
   ]
  },
  {
   "cell_type": "code",
   "execution_count": 4,
   "metadata": {
    "ExecuteTime": {
     "end_time": "2024-07-31T21:06:07.277702Z",
     "start_time": "2024-07-31T21:04:11.546905Z"
    }
   },
   "outputs": [
    {
     "name": "stderr",
     "output_type": "stream",
     "text": [
      "D:\\anaconda3\\Lib\\site-packages\\keras\\src\\saving\\saving_lib.py:576: UserWarning: Skipping variable loading for optimizer 'adam', because it has 2 variables whereas the saved optimizer has 52 variables. \n",
      "  saveable.load_own_variables(weights_store.get(inner_path))\n"
     ]
    },
    {
     "data": {
      "text/html": [
       "<div>\n",
       "<style scoped>\n",
       "    .dataframe tbody tr th:only-of-type {\n",
       "        vertical-align: middle;\n",
       "    }\n",
       "\n",
       "    .dataframe tbody tr th {\n",
       "        vertical-align: top;\n",
       "    }\n",
       "\n",
       "    .dataframe thead th {\n",
       "        text-align: right;\n",
       "    }\n",
       "</style>\n",
       "<table border=\"1\" class=\"dataframe\">\n",
       "  <thead>\n",
       "    <tr style=\"text-align: right;\">\n",
       "      <th></th>\n",
       "      <th>t</th>\n",
       "      <th>ch1</th>\n",
       "      <th>ch1_marked</th>\n",
       "      <th>ch1_ai_marked</th>\n",
       "    </tr>\n",
       "  </thead>\n",
       "  <tbody>\n",
       "    <tr>\n",
       "      <th>count</th>\n",
       "      <td>76243.000000</td>\n",
       "      <td>76243.000000</td>\n",
       "      <td>76243.0</td>\n",
       "      <td>7.624300e+04</td>\n",
       "    </tr>\n",
       "    <tr>\n",
       "      <th>mean</th>\n",
       "      <td>203.119000</td>\n",
       "      <td>0.529203</td>\n",
       "      <td>0.0</td>\n",
       "      <td>1.001058e-01</td>\n",
       "    </tr>\n",
       "    <tr>\n",
       "      <th>std</th>\n",
       "      <td>22.009603</td>\n",
       "      <td>0.160735</td>\n",
       "      <td>0.0</td>\n",
       "      <td>2.752408e-01</td>\n",
       "    </tr>\n",
       "    <tr>\n",
       "      <th>min</th>\n",
       "      <td>164.998000</td>\n",
       "      <td>0.181490</td>\n",
       "      <td>0.0</td>\n",
       "      <td>2.584950e-17</td>\n",
       "    </tr>\n",
       "    <tr>\n",
       "      <th>25%</th>\n",
       "      <td>184.058500</td>\n",
       "      <td>0.396200</td>\n",
       "      <td>0.0</td>\n",
       "      <td>9.571570e-08</td>\n",
       "    </tr>\n",
       "    <tr>\n",
       "      <th>50%</th>\n",
       "      <td>203.119000</td>\n",
       "      <td>0.526570</td>\n",
       "      <td>0.0</td>\n",
       "      <td>6.554467e-06</td>\n",
       "    </tr>\n",
       "    <tr>\n",
       "      <th>75%</th>\n",
       "      <td>222.179500</td>\n",
       "      <td>0.639040</td>\n",
       "      <td>0.0</td>\n",
       "      <td>1.165128e-03</td>\n",
       "    </tr>\n",
       "    <tr>\n",
       "      <th>max</th>\n",
       "      <td>241.240000</td>\n",
       "      <td>1.265300</td>\n",
       "      <td>0.0</td>\n",
       "      <td>1.000000e+00</td>\n",
       "    </tr>\n",
       "  </tbody>\n",
       "</table>\n",
       "</div>"
      ],
      "text/plain": [
       "                  t           ch1  ch1_marked  ch1_ai_marked\n",
       "count  76243.000000  76243.000000     76243.0   7.624300e+04\n",
       "mean     203.119000      0.529203         0.0   1.001058e-01\n",
       "std       22.009603      0.160735         0.0   2.752408e-01\n",
       "min      164.998000      0.181490         0.0   2.584950e-17\n",
       "25%      184.058500      0.396200         0.0   9.571570e-08\n",
       "50%      203.119000      0.526570         0.0   6.554467e-06\n",
       "75%      222.179500      0.639040         0.0   1.165128e-03\n",
       "max      241.240000      1.265300         0.0   1.000000e+00"
      ]
     },
     "execution_count": 4,
     "metadata": {},
     "output_type": "execute_result"
    }
   ],
   "source": [
    "from source.NN_environment import get_prediction_unet\n",
    "\n",
    "df[\"ch1_ai_marked\"] = get_prediction_unet(df[\"ch1\"].to_numpy(), ckpt_v=2)  # , old=True\n",
    "df.to_csv(interval_path + f\"df/{F_ID}_data.csv\", index=False)\n",
    "df.describe()"
   ]
  },
  {
   "cell_type": "markdown",
   "metadata": {},
   "source": [
    "---\n",
    "## Export to SHT\n",
    "---"
   ]
  },
  {
   "cell_type": "code",
   "execution_count": 7,
   "metadata": {
    "ExecuteTime": {
     "end_time": "2024-07-31T23:26:31.879099Z",
     "start_time": "2024-07-31T23:26:30.761169Z"
    }
   },
   "outputs": [],
   "source": [
    "import shtReader_py.shtRipper as shtRipper\n",
    "\n",
    "to_pack = {\n",
    "    \"D-alpha, chord=50 cm\": {\n",
    "        'comment': f'SHOT: #{F_ID}',\n",
    "        'unit': 'U(V)',\n",
    "        'tMin': df.t.min(),  # minimum time\n",
    "        'tMax': df.t.max(),  # maximum time\n",
    "        'offset': 0.0,  # ADC zero level offset\n",
    "        'yRes': -0.00255615,  # ADC resolution: 0.0001 Volt per adc bit\n",
    "        'y': df.ch1.to_list()\n",
    "    },\n",
    "    \"Mark\": {\n",
    "        'comment': 'ELMs marks (by proc-sys v2.0-0scl; 31.07.2024)',\n",
    "        'unit': 'U(V)',\n",
    "        'tMin': df.t.min(),  # minimum time\n",
    "        'tMax': df.t.max(),  # maximum time\n",
    "        'offset': 0.0,  # ADC zero level offset\n",
    "        'yRes': 0.0001,  # ADC resolution: 0.0001 Volt per adc bit\n",
    "        'y': df.ch1_marked.to_list()\n",
    "    },\n",
    "    \"AI prediction\": {\n",
    "        'comment': 'Processed NN prediction of ELMs (v2 new; trn-on: #44184, #44194)',\n",
    "        'unit': 'U(V)',\n",
    "        'tMin': df.t.min(),  # minimum time\n",
    "        'tMax': df.t.max(),  # maximum time\n",
    "        'offset': 0.0,  # ADC zero level offset\n",
    "        'yRes': 0.0001,  # ADC resolution: 0.0001 Volt per adc bit\n",
    "        'y': df.ch1_ai_marked.to_list()\n",
    "    },\n",
    "}\n",
    "\n",
    "packed = shtRipper.ripper.write(path=\"D:/Edu/Lab/D-alpha-instability-search/data/sht/marked/\", filename=f'{F_ID}_data.SHT', data=to_pack)"
   ]
  },
  {
   "cell_type": "code",
   "execution_count": null,
   "metadata": {},
   "outputs": [],
   "source": []
  }
 ],
 "metadata": {
  "kernelspec": {
   "display_name": "Python 3 (ipykernel)",
   "language": "python",
   "name": "python3"
  },
  "language_info": {
   "codemirror_mode": {
    "name": "ipython",
    "version": 3
   },
   "file_extension": ".py",
   "mimetype": "text/x-python",
   "name": "python",
   "nbconvert_exporter": "python",
   "pygments_lexer": "ipython3",
   "version": "3.11.7"
  }
 },
 "nbformat": 4,
 "nbformat_minor": 4
}
