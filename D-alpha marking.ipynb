{
 "cells": [
  {
   "cell_type": "code",
   "execution_count": 5,
   "metadata": {},
   "outputs": [],
   "source": [
    "import os.path\n",
    "import numpy as np\n",
    "import pandas as pd\n",
    "\n",
    "from source.Files_operating import read_dataFile"
   ]
  },
  {
   "cell_type": "code",
   "execution_count": 20,
   "metadata": {
    "collapsed": false,
    "jupyter": {
     "outputs_hidden": false
    }
   },
   "outputs": [
    {
     "data": {
      "text/html": [
       "<div>\n",
       "<style scoped>\n",
       "    .dataframe tbody tr th:only-of-type {\n",
       "        vertical-align: middle;\n",
       "    }\n",
       "\n",
       "    .dataframe tbody tr th {\n",
       "        vertical-align: top;\n",
       "    }\n",
       "\n",
       "    .dataframe thead th {\n",
       "        text-align: right;\n",
       "    }\n",
       "</style>\n",
       "<table border=\"1\" class=\"dataframe\">\n",
       "  <thead>\n",
       "    <tr style=\"text-align: right;\">\n",
       "      <th></th>\n",
       "      <th>t</th>\n",
       "      <th>ch1</th>\n",
       "      <th>ch1_marked</th>\n",
       "      <th>ch1_ai_marked</th>\n",
       "    </tr>\n",
       "  </thead>\n",
       "  <tbody>\n",
       "    <tr>\n",
       "      <th>0</th>\n",
       "      <td>164.646</td>\n",
       "      <td>0.33486</td>\n",
       "      <td>0</td>\n",
       "      <td>0</td>\n",
       "    </tr>\n",
       "    <tr>\n",
       "      <th>1</th>\n",
       "      <td>164.647</td>\n",
       "      <td>0.29907</td>\n",
       "      <td>0</td>\n",
       "      <td>0</td>\n",
       "    </tr>\n",
       "    <tr>\n",
       "      <th>2</th>\n",
       "      <td>164.648</td>\n",
       "      <td>0.31952</td>\n",
       "      <td>0</td>\n",
       "      <td>0</td>\n",
       "    </tr>\n",
       "    <tr>\n",
       "      <th>3</th>\n",
       "      <td>164.649</td>\n",
       "      <td>0.32208</td>\n",
       "      <td>0</td>\n",
       "      <td>0</td>\n",
       "    </tr>\n",
       "    <tr>\n",
       "      <th>4</th>\n",
       "      <td>164.650</td>\n",
       "      <td>0.35275</td>\n",
       "      <td>0</td>\n",
       "      <td>0</td>\n",
       "    </tr>\n",
       "  </tbody>\n",
       "</table>\n",
       "</div>"
      ],
      "text/plain": [
       "         t      ch1  ch1_marked  ch1_ai_marked\n",
       "0  164.646  0.33486           0              0\n",
       "1  164.647  0.29907           0              0\n",
       "2  164.648  0.31952           0              0\n",
       "3  164.649  0.32208           0              0\n",
       "4  164.650  0.35275           0              0"
      ]
     },
     "execution_count": 20,
     "metadata": {},
     "output_type": "execute_result"
    }
   ],
   "source": [
    "interval_path = \"data/intervals/\"\n",
    "signal_path = \"data/d-alpha/\"\n",
    "\n",
    "filename = \"sht44194\"\n",
    "F_ID = filename[-5:]\n",
    "\n",
    "if os.path.isfile(f\"data/intervals/df/{F_ID}_data.csv\"):\n",
    "    df = pd.read_csv(f\"data/intervals/df/{F_ID}_data.csv\", sep=\",\")\n",
    "else:\n",
    "    df = read_dataFile(interval_path + filename + \"_exportGlobus2.dat\", F_ID)\n",
    "    df[\"ch1_marked\"] = pd.Series([0] * df.shape[0])\n",
    "    df[\"ch1_ai_marked\"] = pd.Series([0] * df.shape[0])\n",
    "\n",
    "df.head()"
   ]
  },
  {
   "cell_type": "code",
   "execution_count": 26,
   "metadata": {
    "collapsed": false,
    "jupyter": {
     "outputs_hidden": false
    }
   },
   "outputs": [],
   "source": [
    "def normalise_series(data: np.array) -> np.array:\n",
    "    max_point, min_point, median_value = data.max(), data.min(), np.median(data)\n",
    "    return (data - median_value) / abs(max_point - min_point)\n",
    "\n",
    "def get_boards(data: np.array, scale=np.exp(1)):\n",
    "    loc_max_ind = np.argmax(data)\n",
    "    dist_ind = np.argsort(np.abs(data - data[loc_max_ind] / scale))\n",
    "    return [dist_ind[dist_ind < loc_max_ind][0], dist_ind[dist_ind > loc_max_ind][0]]"
   ]
  },
  {
   "cell_type": "code",
   "execution_count": 31,
   "metadata": {},
   "outputs": [],
   "source": [
    "df[\"ch1_marked\"] = pd.Series([0] * df.shape[0])"
   ]
  },
  {
   "cell_type": "code",
   "execution_count": null,
   "metadata": {
    "collapsed": false,
    "jupyter": {
     "outputs_hidden": false
    },
    "scrolled": true
   },
   "outputs": [],
   "source": [
    "## import matplotlib.pyplot as plt\n",
    "from matplotlib.ticker import AutoMinorLocator\n",
    "\n",
    "l_edge = int(input(f\"Input start index [0:{df.shape[0]//1000*1000}]: \").strip().split()[0])\n",
    "step = 1500\n",
    "width = 2000\n",
    "\n",
    "step_away = 10\n",
    "\n",
    "while l_edge < df.shape[0]:\n",
    "    fig, ax = plt.subplots()\n",
    "\n",
    "    fig.set_figwidth(16)\n",
    "    fig.set_figheight(6)\n",
    "\n",
    "    r_edge = min(l_edge + width, df.shape[0])\n",
    "\n",
    "    ax.plot(range(l_edge, r_edge), normalise_series(df.ch1)[l_edge:r_edge], label=\"D-alpha\")\n",
    "    # ax.plot(range(l_edge, r_edge), df.ch1_filter_norm[l_edge:r_edge], label=\"Filtered D-alpha\")\n",
    "    ax.plot(range(l_edge, r_edge), df.ch1_marked[l_edge:r_edge] * 0.5, label=\"Marked D-alpha\")\n",
    "\n",
    "    ax.grid(which='major', color='#DDDDDD', linewidth=0.9)\n",
    "    ax.grid(which='minor', color='#DDDDDD', linestyle=':', linewidth=0.7)\n",
    "    ax.minorticks_on()\n",
    "    ax.xaxis.set_minor_locator(AutoMinorLocator(10))\n",
    "    ax.legend()\n",
    "    plt.show()\n",
    "\n",
    "    res = list(map(int, input(\"Input index pairs of ELM fragments:\\n\").strip().split()))\n",
    "    for i in range(0, len(res), 2):\n",
    "        board_ind = get_boards(df.loc[res[i]:res[i + 1], \"ch1\"].to_numpy(), scale=1.5)\n",
    "        board_ind[0] = max(board_ind[0] - step_away + res[i], 0)\n",
    "        board_ind[1] += res[i]\n",
    "        \n",
    "        # print(board_ind)\n",
    "        \n",
    "        if (df.loc[board_ind[0]:board_ind[1], \"ch1_marked\"] == 1.).all():\n",
    "            df.loc[board_ind[0]:board_ind[1], \"ch1_marked\"] = 0.\n",
    "        elif (df.loc[board_ind[0]:board_ind[1], \"ch1_marked\"] == 1.).any():\n",
    "            if input(\"Input 1 or 0 to set: \").lower() in [\"1\", \"1.0\", \"y\", \"н\", \"1.\"]:\n",
    "                df.loc[board_ind[0]:board_ind[1], \"ch1_marked\"] = 1.\n",
    "            else:\n",
    "                df.loc[board_ind[0]:board_ind[1], \"ch1_marked\"] = 0.\n",
    "        else:\n",
    "            df.loc[board_ind[0]:board_ind[1], \"ch1_marked\"] = 1.\n",
    "\n",
    "    plt.close()\n",
    "    plt.clf()\n",
    "    l_edge += step\n",
    "\n",
    "# 275 875 925 1425 1425 1800 1800 2000"
   ]
  },
  {
   "cell_type": "code",
   "execution_count": 36,
   "metadata": {
    "collapsed": false,
    "jupyter": {
     "outputs_hidden": false
    }
   },
   "outputs": [
    {
     "data": {
      "text/html": [
       "<div>\n",
       "<style scoped>\n",
       "    .dataframe tbody tr th:only-of-type {\n",
       "        vertical-align: middle;\n",
       "    }\n",
       "\n",
       "    .dataframe tbody tr th {\n",
       "        vertical-align: top;\n",
       "    }\n",
       "\n",
       "    .dataframe thead th {\n",
       "        text-align: right;\n",
       "    }\n",
       "</style>\n",
       "<table border=\"1\" class=\"dataframe\">\n",
       "  <thead>\n",
       "    <tr style=\"text-align: right;\">\n",
       "      <th></th>\n",
       "      <th>t</th>\n",
       "      <th>ch1</th>\n",
       "      <th>ch1_marked</th>\n",
       "      <th>ch1_ai_marked</th>\n",
       "    </tr>\n",
       "  </thead>\n",
       "  <tbody>\n",
       "    <tr>\n",
       "      <th>count</th>\n",
       "      <td>76155.000000</td>\n",
       "      <td>76155.000000</td>\n",
       "      <td>76155.000000</td>\n",
       "      <td>76155.0</td>\n",
       "    </tr>\n",
       "    <tr>\n",
       "      <th>mean</th>\n",
       "      <td>202.723000</td>\n",
       "      <td>0.465146</td>\n",
       "      <td>0.180211</td>\n",
       "      <td>0.0</td>\n",
       "    </tr>\n",
       "    <tr>\n",
       "      <th>std</th>\n",
       "      <td>21.984199</td>\n",
       "      <td>0.183108</td>\n",
       "      <td>0.384366</td>\n",
       "      <td>0.0</td>\n",
       "    </tr>\n",
       "    <tr>\n",
       "      <th>min</th>\n",
       "      <td>164.646000</td>\n",
       "      <td>0.181490</td>\n",
       "      <td>0.000000</td>\n",
       "      <td>0.0</td>\n",
       "    </tr>\n",
       "    <tr>\n",
       "      <th>25%</th>\n",
       "      <td>183.684500</td>\n",
       "      <td>0.334860</td>\n",
       "      <td>0.000000</td>\n",
       "      <td>0.0</td>\n",
       "    </tr>\n",
       "    <tr>\n",
       "      <th>50%</th>\n",
       "      <td>202.723000</td>\n",
       "      <td>0.393650</td>\n",
       "      <td>0.000000</td>\n",
       "      <td>0.0</td>\n",
       "    </tr>\n",
       "    <tr>\n",
       "      <th>75%</th>\n",
       "      <td>221.761500</td>\n",
       "      <td>0.570020</td>\n",
       "      <td>0.000000</td>\n",
       "      <td>0.0</td>\n",
       "    </tr>\n",
       "    <tr>\n",
       "      <th>max</th>\n",
       "      <td>240.800000</td>\n",
       "      <td>1.283200</td>\n",
       "      <td>1.000000</td>\n",
       "      <td>0.0</td>\n",
       "    </tr>\n",
       "  </tbody>\n",
       "</table>\n",
       "</div>"
      ],
      "text/plain": [
       "                  t           ch1    ch1_marked  ch1_ai_marked\n",
       "count  76155.000000  76155.000000  76155.000000        76155.0\n",
       "mean     202.723000      0.465146      0.180211            0.0\n",
       "std       21.984199      0.183108      0.384366            0.0\n",
       "min      164.646000      0.181490      0.000000            0.0\n",
       "25%      183.684500      0.334860      0.000000            0.0\n",
       "50%      202.723000      0.393650      0.000000            0.0\n",
       "75%      221.761500      0.570020      0.000000            0.0\n",
       "max      240.800000      1.283200      1.000000            0.0"
      ]
     },
     "execution_count": 36,
     "metadata": {},
     "output_type": "execute_result"
    }
   ],
   "source": [
    "df.to_csv(f\"data/intervals/df/{F_ID}_data.csv\", index=False)\n",
    "df.describe()"
   ]
  },
  {
   "cell_type": "code",
   "execution_count": 12,
   "metadata": {},
   "outputs": [
    {
     "name": "stdout",
     "output_type": "stream",
     "text": [
      "68\n"
     ]
    }
   ],
   "source": [
    "count = 0\n",
    "for i in range(df.shape[0]-1):\n",
    "    if df.iloc[i].ch1_marked == 0 and df.iloc[i+1].ch1_marked == 1:\n",
    "        count += 1\n",
    "print(count)"
   ]
  },
  {
   "cell_type": "code",
   "execution_count": null,
   "metadata": {},
   "outputs": [],
   "source": []
  }
 ],
 "metadata": {
  "kernelspec": {
   "display_name": "Python 3 (ipykernel)",
   "language": "python",
   "name": "python3"
  },
  "language_info": {
   "codemirror_mode": {
    "name": "ipython",
    "version": 3
   },
   "file_extension": ".py",
   "mimetype": "text/x-python",
   "name": "python",
   "nbconvert_exporter": "python",
   "pygments_lexer": "ipython3",
   "version": "3.11.7"
  }
 },
 "nbformat": 4,
 "nbformat_minor": 4
}
