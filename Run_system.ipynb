{
 "cells": [
  {
   "cell_type": "code",
   "execution_count": 3,
   "id": "48ea8d36-d208-4d75-888a-e2307b58ae59",
   "metadata": {},
   "outputs": [
    {
     "name": "stdout",
     "output_type": "stream",
     "text": [
      "Sys args (full filepath | filename | checkpoint version):\n",
      " ['Processing-system.py', 'D:\\\\Edu\\\\Lab\\\\Projects\\\\D-alpha-instability-search\\\\data\\\\sht\\\\NG-ELM', 'sht44185-2', '2']\n"
     ]
    },
    {
     "name": "stderr",
     "output_type": "stream",
     "text": [
      "D:\\anaconda3\\Lib\\site-packages\\keras\\src\\saving\\saving_lib.py:576: UserWarning: Skipping variable loading for optimizer 'adam', because it has 2 variables whereas the saved optimizer has 52 variables. \n",
      "  saveable.load_own_variables(weights_store.get(inner_path))\n"
     ]
    },
    {
     "name": "stdout",
     "output_type": "stream",
     "text": [
      "Result saved successfully to D:\\Edu\\Lab\\Projects\\D-alpha-instability-search\\data\\sht\\NG-ELM\\marked/185-2_ai_data.SHT\n",
      "Took - 112.39 s\n"
     ]
    }
   ],
   "source": [
    "# args from CL: full filepath | filename | checkpoint version\n",
    "# D:\\Edu\\Lab\\Projects\\D-alpha-instability-search\\data\\sht\\NG-ELM | C:\\Users\\f.belous\\Work\\Projects\\D-alpha-instability-search\\data\\sht\\NG-ELM\n",
    "%run Processing-system.py D:\\Edu\\Lab\\Projects\\D-alpha-instability-search\\data\\sht\\NG-ELM sht44185-2 2"
   ]
  },
  {
   "cell_type": "code",
   "execution_count": 2,
   "id": "25d5d382-aec9-475b-b248-cabf61a61544",
   "metadata": {},
   "outputs": [
    {
     "name": "stdout",
     "output_type": "stream",
     "text": [
      "Sys args (full filepath | filename | checkpoint version):\n",
      " ['Processing-system.py', 'D:\\\\Edu\\\\Lab\\\\Projects\\\\D-alpha-instability-search\\\\data\\\\sht\\\\NG-ELM', 'sht44185', '22']\n"
     ]
    },
    {
     "name": "stderr",
     "output_type": "stream",
     "text": [
      "D:\\anaconda3\\Lib\\site-packages\\keras\\src\\saving\\saving_lib.py:576: UserWarning: Skipping variable loading for optimizer 'adam', because it has 2 variables whereas the saved optimizer has 52 variables. \n",
      "  saveable.load_own_variables(weights_store.get(inner_path))\n"
     ]
    },
    {
     "name": "stdout",
     "output_type": "stream",
     "text": [
      "Result saved successfully to D:\\Edu\\Lab\\Projects\\D-alpha-instability-search\\data\\sht\\NG-ELM\\marked/44185_ai_data.SHT\n",
      "Took - 110.97 s\n"
     ]
    }
   ],
   "source": [
    "# args from CL: full filepath | filename | checkpoint version\n",
    "# D:\\Edu\\Lab\\Projects\\D-alpha-instability-search\\data\\sht\\G-ELM | C:\\Users\\f.belous\\Work\\Projects\\D-alpha-instability-search\\data\\sht\\G-ELM\n",
    "%run Processing-system.py D:\\Edu\\Lab\\Projects\\D-alpha-instability-search\\data\\sht\\NG-ELM sht44185 22"
   ]
  },
  {
   "cell_type": "code",
   "execution_count": null,
   "id": "2d7287fa-53d9-4486-90ae-2076d90222da",
   "metadata": {},
   "outputs": [],
   "source": []
  }
 ],
 "metadata": {
  "kernelspec": {
   "display_name": "Python 3 (ipykernel)",
   "language": "python",
   "name": "python3"
  },
  "language_info": {
   "codemirror_mode": {
    "name": "ipython",
    "version": 3
   },
   "file_extension": ".py",
   "mimetype": "text/x-python",
   "name": "python",
   "nbconvert_exporter": "python",
   "pygments_lexer": "ipython3",
   "version": "3.11.7"
  }
 },
 "nbformat": 4,
 "nbformat_minor": 5
}
